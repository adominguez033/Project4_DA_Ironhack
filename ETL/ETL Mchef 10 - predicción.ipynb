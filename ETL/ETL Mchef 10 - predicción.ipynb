{
 "cells": [
  {
   "cell_type": "code",
   "execution_count": 1,
   "id": "68723f06",
   "metadata": {},
   "outputs": [],
   "source": [
    "import requests as rq\n",
    "\n",
    "from bs4 import BeautifulSoup as bs \n",
    "\n",
    "import pandas as pd\n",
    "\n",
    "pd.set_option('display.max_rows', None)"
   ]
  },
  {
   "cell_type": "code",
   "execution_count": 2,
   "id": "21e1cc3d",
   "metadata": {},
   "outputs": [],
   "source": [
    "url='https://es.wikipedia.org/wiki/MasterChef_Espa%C3%B1a'"
   ]
  },
  {
   "cell_type": "code",
   "execution_count": 3,
   "id": "88338b95",
   "metadata": {},
   "outputs": [],
   "source": [
    "html=rq.get(url).content\n",
    "soup=bs(html, 'html.parser')"
   ]
  },
  {
   "cell_type": "code",
   "execution_count": 8,
   "id": "a1ecb643",
   "metadata": {},
   "outputs": [],
   "source": [
    "tabla=soup.find_all('table')[40]"
   ]
  },
  {
   "cell_type": "code",
   "execution_count": 9,
   "id": "ff36f453",
   "metadata": {},
   "outputs": [],
   "source": [
    "filas=tabla.find_all('tr')\n",
    "\n",
    "filas=[f.text.strip().split('\\n') for f in filas]"
   ]
  },
  {
   "cell_type": "code",
   "execution_count": 11,
   "id": "bba21e02",
   "metadata": {},
   "outputs": [
    {
     "data": {
      "text/plain": [
       "[['Aspirante', 'Procedencia', 'Edad', 'Ocupación', 'Información'],\n",
       " ['Adrián Zumalabe', ' Vizcaya', '28', 'Técnico instalador'],\n",
       " ['Claudia Castellvì', ' Gerona', '28', 'Administrativa'],\n",
       " ['David Pascual', ' Asturias', '38', 'Gerente'],\n",
       " ['María Lo Gómez', ' Cádiz', '32', 'Desempleada'],\n",
       " ['Verónica Gómez de Liaño', ' Salamanca', '26', 'Publicista'],\n",
       " ['Patricia Sarriá', ' Barcelona', '32', 'Administrativa', '6.ª expulsada']]"
      ]
     },
     "execution_count": 11,
     "metadata": {},
     "output_type": "execute_result"
    }
   ],
   "source": [
    "final=[]\n",
    "\n",
    "for f in filas:\n",
    "    \n",
    "    tmp=[]\n",
    "    \n",
    "    for palabra in f:\n",
    "        \n",
    "        if palabra!='':\n",
    "            \n",
    "            tmp.append(palabra)\n",
    "            \n",
    "    final.append(tmp)\n",
    "    \n",
    "final[:7]"
   ]
  },
  {
   "cell_type": "code",
   "execution_count": 17,
   "id": "4076baef",
   "metadata": {},
   "outputs": [],
   "source": [
    "col_names=final[0]\n",
    "\n",
    "data=final[1:7]\n",
    "\n",
    "edicion10=pd.DataFrame(data, columns=col_names)"
   ]
  },
  {
   "cell_type": "code",
   "execution_count": 18,
   "id": "ce5e4012",
   "metadata": {},
   "outputs": [],
   "source": [
    "edicion10.columns =['nombre', 'procedencia', 'edad', 'ocupacion', 'ranking']"
   ]
  },
  {
   "cell_type": "code",
   "execution_count": 19,
   "id": "e77fadc5",
   "metadata": {},
   "outputs": [],
   "source": [
    "edicion10['edicion']='10'\n",
    "edicion10['sexo']='F'"
   ]
  },
  {
   "cell_type": "code",
   "execution_count": 20,
   "id": "8068b353",
   "metadata": {},
   "outputs": [],
   "source": [
    "edicion10.loc[0,'sexo'] = 'M'\n",
    "edicion10.loc[1,'sexo'] = 'F'\n",
    "edicion10.loc[2,'sexo'] = 'M'\n",
    "edicion10.loc[3,'sexo'] = 'F'\n",
    "edicion10.loc[4,'sexo'] = 'F'\n",
    "edicion10.loc[5,'sexo'] = 'F'"
   ]
  },
  {
   "cell_type": "code",
   "execution_count": 21,
   "id": "a3236004",
   "metadata": {},
   "outputs": [
    {
     "data": {
      "text/html": [
       "<div>\n",
       "<style scoped>\n",
       "    .dataframe tbody tr th:only-of-type {\n",
       "        vertical-align: middle;\n",
       "    }\n",
       "\n",
       "    .dataframe tbody tr th {\n",
       "        vertical-align: top;\n",
       "    }\n",
       "\n",
       "    .dataframe thead th {\n",
       "        text-align: right;\n",
       "    }\n",
       "</style>\n",
       "<table border=\"1\" class=\"dataframe\">\n",
       "  <thead>\n",
       "    <tr style=\"text-align: right;\">\n",
       "      <th></th>\n",
       "      <th>nombre</th>\n",
       "      <th>procedencia</th>\n",
       "      <th>edad</th>\n",
       "      <th>ocupacion</th>\n",
       "      <th>ranking</th>\n",
       "      <th>edicion</th>\n",
       "      <th>sexo</th>\n",
       "    </tr>\n",
       "  </thead>\n",
       "  <tbody>\n",
       "    <tr>\n",
       "      <th>0</th>\n",
       "      <td>Adrián Zumalabe</td>\n",
       "      <td>Vizcaya</td>\n",
       "      <td>28</td>\n",
       "      <td>Técnico instalador</td>\n",
       "      <td>None</td>\n",
       "      <td>10</td>\n",
       "      <td>M</td>\n",
       "    </tr>\n",
       "    <tr>\n",
       "      <th>1</th>\n",
       "      <td>Claudia Castellvì</td>\n",
       "      <td>Gerona</td>\n",
       "      <td>28</td>\n",
       "      <td>Administrativa</td>\n",
       "      <td>None</td>\n",
       "      <td>10</td>\n",
       "      <td>F</td>\n",
       "    </tr>\n",
       "    <tr>\n",
       "      <th>2</th>\n",
       "      <td>David Pascual</td>\n",
       "      <td>Asturias</td>\n",
       "      <td>38</td>\n",
       "      <td>Gerente</td>\n",
       "      <td>None</td>\n",
       "      <td>10</td>\n",
       "      <td>M</td>\n",
       "    </tr>\n",
       "    <tr>\n",
       "      <th>3</th>\n",
       "      <td>María Lo Gómez</td>\n",
       "      <td>Cádiz</td>\n",
       "      <td>32</td>\n",
       "      <td>Desempleada</td>\n",
       "      <td>None</td>\n",
       "      <td>10</td>\n",
       "      <td>F</td>\n",
       "    </tr>\n",
       "    <tr>\n",
       "      <th>4</th>\n",
       "      <td>Verónica Gómez de Liaño</td>\n",
       "      <td>Salamanca</td>\n",
       "      <td>26</td>\n",
       "      <td>Publicista</td>\n",
       "      <td>None</td>\n",
       "      <td>10</td>\n",
       "      <td>F</td>\n",
       "    </tr>\n",
       "    <tr>\n",
       "      <th>5</th>\n",
       "      <td>Patricia Sarriá</td>\n",
       "      <td>Barcelona</td>\n",
       "      <td>32</td>\n",
       "      <td>Administrativa</td>\n",
       "      <td>6.ª expulsada</td>\n",
       "      <td>10</td>\n",
       "      <td>F</td>\n",
       "    </tr>\n",
       "  </tbody>\n",
       "</table>\n",
       "</div>"
      ],
      "text/plain": [
       "                    nombre procedencia edad           ocupacion  \\\n",
       "0          Adrián Zumalabe     Vizcaya   28  Técnico instalador   \n",
       "1        Claudia Castellvì      Gerona   28      Administrativa   \n",
       "2            David Pascual    Asturias   38             Gerente   \n",
       "3           María Lo Gómez       Cádiz   32         Desempleada   \n",
       "4  Verónica Gómez de Liaño   Salamanca   26          Publicista   \n",
       "5          Patricia Sarriá   Barcelona   32      Administrativa   \n",
       "\n",
       "         ranking edicion sexo  \n",
       "0           None      10    M  \n",
       "1           None      10    F  \n",
       "2           None      10    M  \n",
       "3           None      10    F  \n",
       "4           None      10    F  \n",
       "5  6.ª expulsada      10    F  "
      ]
     },
     "execution_count": 21,
     "metadata": {},
     "output_type": "execute_result"
    }
   ],
   "source": [
    "edicion10"
   ]
  },
  {
   "cell_type": "code",
   "execution_count": 26,
   "id": "6cfac106",
   "metadata": {},
   "outputs": [],
   "source": [
    "edicion10.drop(columns=['ranking'], inplace=True)"
   ]
  },
  {
   "cell_type": "code",
   "execution_count": 27,
   "id": "6bcfe9f8",
   "metadata": {},
   "outputs": [],
   "source": [
    "edicion10['edad'] = edicion10['edad'].astype('int')\n",
    "edicion10['edicion'] = edicion10['edicion'].astype('int')"
   ]
  },
  {
   "cell_type": "code",
   "execution_count": 28,
   "id": "adeb6f12",
   "metadata": {},
   "outputs": [
    {
     "name": "stdout",
     "output_type": "stream",
     "text": [
      "<class 'pandas.core.frame.DataFrame'>\n",
      "RangeIndex: 6 entries, 0 to 5\n",
      "Data columns (total 6 columns):\n",
      " #   Column       Non-Null Count  Dtype \n",
      "---  ------       --------------  ----- \n",
      " 0   nombre       6 non-null      object\n",
      " 1   procedencia  6 non-null      object\n",
      " 2   edad         6 non-null      int32 \n",
      " 3   ocupacion    6 non-null      object\n",
      " 4   edicion      6 non-null      int32 \n",
      " 5   sexo         6 non-null      object\n",
      "dtypes: int32(2), object(4)\n",
      "memory usage: 368.0+ bytes\n"
     ]
    }
   ],
   "source": [
    "edicion10.info()"
   ]
  },
  {
   "cell_type": "code",
   "execution_count": 29,
   "id": "68483c77",
   "metadata": {},
   "outputs": [
    {
     "data": {
      "text/html": [
       "<div>\n",
       "<style scoped>\n",
       "    .dataframe tbody tr th:only-of-type {\n",
       "        vertical-align: middle;\n",
       "    }\n",
       "\n",
       "    .dataframe tbody tr th {\n",
       "        vertical-align: top;\n",
       "    }\n",
       "\n",
       "    .dataframe thead th {\n",
       "        text-align: right;\n",
       "    }\n",
       "</style>\n",
       "<table border=\"1\" class=\"dataframe\">\n",
       "  <thead>\n",
       "    <tr style=\"text-align: right;\">\n",
       "      <th></th>\n",
       "      <th>nombre</th>\n",
       "      <th>procedencia</th>\n",
       "      <th>edad</th>\n",
       "      <th>ocupacion</th>\n",
       "      <th>edicion</th>\n",
       "      <th>sexo</th>\n",
       "    </tr>\n",
       "  </thead>\n",
       "  <tbody>\n",
       "    <tr>\n",
       "      <th>0</th>\n",
       "      <td>Adrián Zumalabe</td>\n",
       "      <td>Vizcaya</td>\n",
       "      <td>28</td>\n",
       "      <td>Técnico instalador</td>\n",
       "      <td>10</td>\n",
       "      <td>M</td>\n",
       "    </tr>\n",
       "    <tr>\n",
       "      <th>1</th>\n",
       "      <td>Claudia Castellvì</td>\n",
       "      <td>Gerona</td>\n",
       "      <td>28</td>\n",
       "      <td>Administrativa</td>\n",
       "      <td>10</td>\n",
       "      <td>F</td>\n",
       "    </tr>\n",
       "    <tr>\n",
       "      <th>2</th>\n",
       "      <td>David Pascual</td>\n",
       "      <td>Asturias</td>\n",
       "      <td>38</td>\n",
       "      <td>Gerente</td>\n",
       "      <td>10</td>\n",
       "      <td>M</td>\n",
       "    </tr>\n",
       "    <tr>\n",
       "      <th>3</th>\n",
       "      <td>María Lo Gómez</td>\n",
       "      <td>Cádiz</td>\n",
       "      <td>32</td>\n",
       "      <td>Desempleada</td>\n",
       "      <td>10</td>\n",
       "      <td>F</td>\n",
       "    </tr>\n",
       "    <tr>\n",
       "      <th>4</th>\n",
       "      <td>Verónica Gómez de Liaño</td>\n",
       "      <td>Salamanca</td>\n",
       "      <td>26</td>\n",
       "      <td>Publicista</td>\n",
       "      <td>10</td>\n",
       "      <td>F</td>\n",
       "    </tr>\n",
       "    <tr>\n",
       "      <th>5</th>\n",
       "      <td>Patricia Sarriá</td>\n",
       "      <td>Barcelona</td>\n",
       "      <td>32</td>\n",
       "      <td>Administrativa</td>\n",
       "      <td>10</td>\n",
       "      <td>F</td>\n",
       "    </tr>\n",
       "  </tbody>\n",
       "</table>\n",
       "</div>"
      ],
      "text/plain": [
       "                    nombre procedencia  edad           ocupacion  edicion sexo\n",
       "0          Adrián Zumalabe     Vizcaya    28  Técnico instalador       10    M\n",
       "1        Claudia Castellvì      Gerona    28      Administrativa       10    F\n",
       "2            David Pascual    Asturias    38             Gerente       10    M\n",
       "3           María Lo Gómez       Cádiz    32         Desempleada       10    F\n",
       "4  Verónica Gómez de Liaño   Salamanca    26          Publicista       10    F\n",
       "5          Patricia Sarriá   Barcelona    32      Administrativa       10    F"
      ]
     },
     "execution_count": 29,
     "metadata": {},
     "output_type": "execute_result"
    }
   ],
   "source": [
    "edicion10"
   ]
  },
  {
   "cell_type": "code",
   "execution_count": 30,
   "id": "aace5ec7",
   "metadata": {},
   "outputs": [],
   "source": [
    "edicion10.to_csv(r'C:\\Users\\alexd\\Ironhack\\Proyectos\\Project4_DA_Ironhack\\Data\\masterchef10.csv', index=False)"
   ]
  },
  {
   "cell_type": "code",
   "execution_count": 31,
   "id": "9f549d9a",
   "metadata": {},
   "outputs": [
    {
     "name": "stderr",
     "output_type": "stream",
     "text": [
      "C:\\Users\\alexd\\AppData\\Local\\Temp/ipykernel_2536/145517821.py:1: FutureWarning: As the xlwt package is no longer maintained, the xlwt engine will be removed in a future version of pandas. This is the only engine in pandas that supports writing in the xls format. Install openpyxl and write to an xlsx file instead. You can set the option io.excel.xls.writer to 'xlwt' to silence this warning. While this option is deprecated and will also raise a warning, it can be globally set and the warning suppressed.\n",
      "  edicion10.to_excel(r'C:\\Users\\alexd\\Ironhack\\Proyectos\\Project4_DA_Ironhack\\Data\\masterchef10.xls', index=False)\n"
     ]
    }
   ],
   "source": [
    "edicion10.to_excel(r'C:\\Users\\alexd\\Ironhack\\Proyectos\\Project4_DA_Ironhack\\Data\\masterchef10.xls', index=False)"
   ]
  },
  {
   "cell_type": "code",
   "execution_count": 32,
   "id": "f8f9d6df",
   "metadata": {},
   "outputs": [],
   "source": [
    "masterchef10_2=pd.read_excel(r'C:\\Users\\alexd\\Ironhack\\Proyectos\\Project4_DA_Ironhack\\Data\\masterchef10.xls')"
   ]
  },
  {
   "cell_type": "code",
   "execution_count": 33,
   "id": "72a55471",
   "metadata": {},
   "outputs": [],
   "source": [
    "masterchef10_2.to_csv(r'C:\\Users\\alexd\\Ironhack\\Proyectos\\Project4_DA_Ironhack\\Data\\masterchef10.csv', index=False)"
   ]
  },
  {
   "cell_type": "code",
   "execution_count": 34,
   "id": "654b63c3",
   "metadata": {},
   "outputs": [],
   "source": [
    "masterchef10_info=pd.read_excel(r'C:\\Users\\alexd\\Ironhack\\Proyectos\\Project4_DA_Ironhack\\Data\\masterchef10_info.xls')"
   ]
  },
  {
   "cell_type": "code",
   "execution_count": 35,
   "id": "c5a70da6",
   "metadata": {},
   "outputs": [],
   "source": [
    "masterchef10_info.to_csv(r'C:\\Users\\alexd\\Ironhack\\Proyectos\\Project4_DA_Ironhack\\Data\\masterchef10_info.csv', index=False)"
   ]
  }
 ],
 "metadata": {
  "kernelspec": {
   "display_name": "Python 3 (ipykernel)",
   "language": "python",
   "name": "python3"
  },
  "language_info": {
   "codemirror_mode": {
    "name": "ipython",
    "version": 3
   },
   "file_extension": ".py",
   "mimetype": "text/x-python",
   "name": "python",
   "nbconvert_exporter": "python",
   "pygments_lexer": "ipython3",
   "version": "3.9.7"
  }
 },
 "nbformat": 4,
 "nbformat_minor": 5
}
